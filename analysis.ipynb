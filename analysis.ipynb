{
 "cells": [
  {
   "cell_type": "markdown",
   "id": "e55efd11-fe5a-4b2f-bdc1-36b4d268675e",
   "metadata": {},
   "source": [
    "# Data Analysis Project: **Stroke Prediction**"
   ]
  },
  {
   "cell_type": "markdown",
   "id": "14219811-2e8e-4aef-9ddb-3144327f4a61",
   "metadata": {},
   "source": [
    "#### *Submitted by:* **Sarah Camille R. Aqui**"
   ]
  },
  {
   "cell_type": "markdown",
   "id": "ea83aa7e-2d90-40b5-911a-6b51fd30747e",
   "metadata": {},
   "source": [
    "# About the Dataset\n",
    "\n",
    "\n",
    "I have chosen the Stroke Prediction Dataset from Kaggle by FEDESORIANO, and it was last updated four years ago. This dataset has 12 columns."
   ]
  },
  {
   "cell_type": "markdown",
   "id": "2699088a-c305-463e-8928-341e7f249301",
   "metadata": {},
   "source": [
    "| Variable          | Description                                                      |\n",
    "| ------------------| ---------------------------------------------------------------- |\n",
    "|id                 | Patient identifier                                               |\n",
    "|age                | Patient's age                                                    |\n",
    "|gender             | Gender ( Male, Female, or Other )                                |\n",
    "|hypertension       | 0 if the patient does not have it; 1 for yes                     |\n",
    "|heart_disease      | 0 if the patient does not have it; 1 for yes                     |\n",
    "|ever_married       | If the patient was ever married ( yes or no )                    |\n",
    "|work_type          | Children, Govt_job, Never_worked, Private, or Self-employed      |\n",
    "|Residence_type     | Residence type of the patient ( Rural or Urban )                 |\n",
    "|ave_glucose_level  | The average glucose level of the patient                         |\n",
    "|bmi                | The patient's body mass index                                    |\n",
    "|smoking_status     | If the patient formerly smoked, never smoked, smokes, or unknown |\n",
    "|stroke             | 0 if the patient didn't have a stroke; 1 for yes                 |"
   ]
  },
  {
   "cell_type": "markdown",
   "id": "df80806b-0283-4e85-a473-f0e6a40d43a4",
   "metadata": {},
   "source": [
    "*Note:* Unknown in the smoking_status means the information is unavailable for the patient."
   ]
  },
  {
   "cell_type": "markdown",
   "id": "3ffb76a1-cc06-442e-85f6-029e528ff9fc",
   "metadata": {},
   "source": [
    "## **Importing the Necessary Libraries**"
   ]
  },
  {
   "cell_type": "code",
   "execution_count": 2,
   "id": "50122653-332e-4c13-9f06-98c8426b70c9",
   "metadata": {},
   "outputs": [],
   "source": [
    "import pandas as pd\n",
    "import matplotlib.pyplot as plt\n",
    "import numpy as np\n",
    "import seaborn as sns\n",
    "from sklearn.pipeline import Pipeline\n",
    "from sklearn.preprocessing import StandardScaler,PolynomialFeatures\n",
    "from sklearn.linear_model import LinearRegression\n",
    "%matplotlib inline"
   ]
  },
  {
   "cell_type": "code",
   "execution_count": 4,
   "id": "0f2b0378-d8aa-4ec3-b47e-9a5594bee8d4",
   "metadata": {},
   "outputs": [
    {
     "name": "stdout",
     "output_type": "stream",
     "text": [
      "      id  gender   age  hypertension  heart_disease ever_married  \\\n",
      "0   9046    Male  67.0             0              1          Yes   \n",
      "1  51676  Female  61.0             0              0          Yes   \n",
      "2  31112    Male  80.0             0              1          Yes   \n",
      "3  60182  Female  49.0             0              0          Yes   \n",
      "4   1665  Female  79.0             1              0          Yes   \n",
      "\n",
      "       work_type Residence_type  avg_glucose_level   bmi   smoking_status  \\\n",
      "0        Private          Urban             228.69  36.6  formerly smoked   \n",
      "1  Self-employed          Rural             202.21   NaN     never smoked   \n",
      "2        Private          Rural             105.92  32.5     never smoked   \n",
      "3        Private          Urban             171.23  34.4           smokes   \n",
      "4  Self-employed          Rural             174.12  24.0     never smoked   \n",
      "\n",
      "   stroke  \n",
      "0       1  \n",
      "1       1  \n",
      "2       1  \n",
      "3       1  \n",
      "4       1  \n"
     ]
    }
   ],
   "source": [
    "# 1. Read the CSV file into a pandas DataFrame\n",
    "file_path = 'data.csv'\n",
    "df = pd.read_csv(file_path)\n",
    "\n",
    "# 2. Print the first 5 rows to verify correct loading\n",
    "print(df.head())\n"
   ]
  },
  {
   "cell_type": "markdown",
   "id": "7984e7aa-b6fb-4413-a2a6-2d579697c60c",
   "metadata": {},
   "source": [
    "## **Exploratory Data Analysis**"
   ]
  },
  {
   "cell_type": "markdown",
   "id": "925039c0-c478-4793-b042-8de3f26a0c1f",
   "metadata": {},
   "source": [
    "### Data Distributions"
   ]
  },
  {
   "cell_type": "code",
   "execution_count": 5,
   "id": "4ea8b553-9b72-4f28-ac1f-2d3cd30f9219",
   "metadata": {},
   "outputs": [
    {
     "name": "stdout",
     "output_type": "stream",
     "text": [
      "Missing Values in Each Column:\n",
      "id                     0\n",
      "gender                 0\n",
      "age                    0\n",
      "hypertension           0\n",
      "heart_disease          0\n",
      "ever_married           0\n",
      "work_type              0\n",
      "Residence_type         0\n",
      "avg_glucose_level      0\n",
      "bmi                  201\n",
      "smoking_status         0\n",
      "stroke                 0\n",
      "dtype: int64\n",
      "\n",
      "\n",
      "Number of Duplicate Entries: 0\n",
      "\n",
      "\n",
      "Statistical Description of the Dataset (Including Object Types):\n",
      "                  id  gender          age  hypertension  heart_disease  \\\n",
      "count    5110.000000    5110  5110.000000   5110.000000    5110.000000   \n",
      "unique           NaN       3          NaN           NaN            NaN   \n",
      "top              NaN  Female          NaN           NaN            NaN   \n",
      "freq             NaN    2994          NaN           NaN            NaN   \n",
      "mean    36517.829354     NaN    43.226614      0.097456       0.054012   \n",
      "std     21161.721625     NaN    22.612647      0.296607       0.226063   \n",
      "min        67.000000     NaN     0.080000      0.000000       0.000000   \n",
      "25%     17741.250000     NaN    25.000000      0.000000       0.000000   \n",
      "50%     36932.000000     NaN    45.000000      0.000000       0.000000   \n",
      "75%     54682.000000     NaN    61.000000      0.000000       0.000000   \n",
      "max     72940.000000     NaN    82.000000      1.000000       1.000000   \n",
      "\n",
      "       ever_married work_type Residence_type  avg_glucose_level          bmi  \\\n",
      "count          5110      5110           5110        5110.000000  4909.000000   \n",
      "unique            2         5              2                NaN          NaN   \n",
      "top             Yes   Private          Urban                NaN          NaN   \n",
      "freq           3353      2925           2596                NaN          NaN   \n",
      "mean            NaN       NaN            NaN         106.147677    28.893237   \n",
      "std             NaN       NaN            NaN          45.283560     7.854067   \n",
      "min             NaN       NaN            NaN          55.120000    10.300000   \n",
      "25%             NaN       NaN            NaN          77.245000    23.500000   \n",
      "50%             NaN       NaN            NaN          91.885000    28.100000   \n",
      "75%             NaN       NaN            NaN         114.090000    33.100000   \n",
      "max             NaN       NaN            NaN         271.740000    97.600000   \n",
      "\n",
      "       smoking_status       stroke  \n",
      "count            5110  5110.000000  \n",
      "unique              4          NaN  \n",
      "top      never smoked          NaN  \n",
      "freq             1892          NaN  \n",
      "mean              NaN     0.048728  \n",
      "std               NaN     0.215320  \n",
      "min               NaN     0.000000  \n",
      "25%               NaN     0.000000  \n",
      "50%               NaN     0.000000  \n",
      "75%               NaN     0.000000  \n",
      "max               NaN     1.000000  \n"
     ]
    }
   ],
   "source": [
    "# 1. Check for missing values and duplicate entries\n",
    "\n",
    "# Check for missing values in each column\n",
    "missing_values = df.isnull().sum()\n",
    "print(\"Missing Values in Each Column:\")\n",
    "print(missing_values)\n",
    "print(\"\\n\")\n",
    "\n",
    "# Check for duplicate rows\n",
    "duplicate_entries = df.duplicated().sum()\n",
    "print(f\"Number of Duplicate Entries: {duplicate_entries}\")\n",
    "print(\"\\n\")\n",
    "\n",
    "# 2. Generate statistical description of all features (including object types)\n",
    "print(\"Statistical Description of the Dataset (Including Object Types):\")\n",
    "print(df.describe(include='all'))\n"
   ]
  },
  {
   "cell_type": "markdown",
   "id": "bd75da14-0938-4390-9abd-307411ba0e29",
   "metadata": {},
   "source": [
    "### Outlier Analysis"
   ]
  },
  {
   "cell_type": "code",
   "execution_count": 7,
   "id": "615b25cf-f9e8-4acc-8ec3-ded0d370a1ea",
   "metadata": {},
   "outputs": [
    {
     "name": "stdout",
     "output_type": "stream",
     "text": [
      "Missing BMI Values: 201 out of 5110 entries\n",
      "Percentage of Missing BMI Values: 3.93%\n"
     ]
    },
    {
     "data": {
      "image/png": "[encoded data removed]",
      "text/plain": [
       "<Figure size 800x500 with 1 Axes>"
      ]
     },
     "metadata": {},
     "output_type": "display_data"
    }
   ],
   "source": [
    "# 1. Check the percentage of missing BMI values\n",
    "missing_bmi_count = df['bmi'].isnull().sum()\n",
    "total_count = len(df)\n",
    "missing_bmi_percentage = (missing_bmi_count / total_count) * 100\n",
    "\n",
    "print(f\"Missing BMI Values: {missing_bmi_count} out of {total_count} entries\")\n",
    "print(f\"Percentage of Missing BMI Values: {missing_bmi_percentage:.2f}%\")\n",
    "\n",
    "# 2. Generate a box plot for the BMI column to identify outliers\n",
    "plt.figure(figsize=(8, 5))\n",
    "sns.boxplot(x=df['bmi'])\n",
    "plt.title('Box Plot of BMI')\n",
    "plt.xlabel('BMI')\n",
    "plt.show()"
   ]
  },
  {
   "cell_type": "code",
   "execution_count": 8,
   "id": "5ec34aff-6716-43b3-a28f-e3b8e7d6bcca",
   "metadata": {},
   "outputs": [
    {
     "name": "stdout",
     "output_type": "stream",
     "text": [
      "Skewness of the BMI column: 1.06\n"
     ]
    }
   ],
   "source": [
    "# Check the skewness of the BMI column\n",
    "bmi_skewness = df['bmi'].skew()\n",
    "print(f\"Skewness of the BMI column: {bmi_skewness:.2f}\")"
   ]
  },
  {
   "cell_type": "code",
   "execution_count": 9,
   "id": "99b9280a-bf67-47cb-8c2c-1317814fa4bd",
   "metadata": {},
   "outputs": [
    {
     "name": "stdout",
     "output_type": "stream",
     "text": [
      "Missing BMI values after imputation: 0\n"
     ]
    },
    {
     "name": "stderr",
     "output_type": "stream",
     "text": [
      "C:\\Users\\sarah\\AppData\\Local\\Temp\\ipykernel_20352\\1019290277.py:5: FutureWarning: A value is trying to be set on a copy of a DataFrame or Series through chained assignment using an inplace method.\n",
      "The behavior will change in pandas 3.0. This inplace method will never work because the intermediate object on which we are setting values always behaves as a copy.\n",
      "\n",
      "For example, when doing 'df[col].method(value, inplace=True)', try using 'df.method({col: value}, inplace=True)' or df[col] = df[col].method(value) instead, to perform the operation inplace on the original object.\n",
      "\n",
      "\n",
      "  df['bmi'].fillna(bmi_median, inplace=True)\n"
     ]
    }
   ],
   "source": [
    "# Calculate the median of the BMI column\n",
    "bmi_median = df['bmi'].median()\n",
    "\n",
    "# Impute missing BMI values with the median\n",
    "df['bmi'].fillna(bmi_median, inplace=True)\n",
    "\n",
    "# Confirm that missing values have been filled\n",
    "print(f\"Missing BMI values after imputation: {df['bmi'].isnull().sum()}\")"
   ]
  },
  {
   "cell_type": "markdown",
   "id": "37151f73-885f-48f7-a753-601b05b7073d",
   "metadata": {},
   "source": [
    "### Relationships Between Variables"
   ]
  },
  {
   "cell_type": "code",
   "execution_count": 11,
   "id": "433e180c-ed4f-45b5-a1d8-e5e4c125734e",
   "metadata": {},
   "outputs": [
    {
     "name": "stdout",
     "output_type": "stream",
     "text": [
      "             Feature  Pearson Coefficient       P-Value\n",
      "1                age             0.245257  7.030778e-71\n",
      "3      heart_disease             0.134914  3.451927e-22\n",
      "4  avg_glucose_level             0.131945  2.767811e-21\n",
      "2       hypertension             0.127904  4.367557e-20\n",
      "5                bmi             0.036110  9.837071e-03\n",
      "0                 id             0.006388  6.479970e-01\n"
     ]
    }
   ],
   "source": [
    "from scipy.stats import pearsonr\n",
    "\n",
    "# Prepare to store results\n",
    "correlation_results = []\n",
    "\n",
    "# Loop through each column except the target 'stroke'\n",
    "for col in df.columns:\n",
    "    if col != 'stroke':\n",
    "        # Only compute for numeric columns\n",
    "        if np.issubdtype(df[col].dtype, np.number):\n",
    "            # Drop NA to avoid computation errors\n",
    "            valid_data = df[[col, 'stroke']].dropna()\n",
    "            r, p = pearsonr(valid_data[col], valid_data['stroke'])\n",
    "            correlation_results.append({\n",
    "                'Feature': col,\n",
    "                'Pearson Coefficient': r,\n",
    "                'P-Value': p\n",
    "            })\n",
    "\n",
    "# Convert to a DataFrame for display\n",
    "correlation_df = pd.DataFrame(correlation_results)\n",
    "\n",
    "# Display results sorted by absolute Pearson coefficient\n",
    "correlation_df = correlation_df.reindex(correlation_df['Pearson Coefficient'].abs().sort_values(ascending=False).index)\n",
    "\n",
    "print(correlation_df)"
   ]
  },
  {
   "cell_type": "markdown",
   "id": "c330e712-4899-4d1f-9da6-2ca5d73dd6ac",
   "metadata": {},
   "source": [
    "#### The Pearson Coefficient measures the linear correlation between each variables and the stroke feature. If the result is +1, it tells us that there is a perfect positive correlation, 0 has no correlation, and a -1 is a negative correlation. The P-Value shows us if the correlation is statistically signidicant. If the result is < 0.05, it is a low p-value, which means the correlation is statistically significant. \n",
    "\n",
    "\n",
    "#### Therefore, based on the correlation results, the definite variables that are correlated with stroke feature are age, heart_disease, avg_glucose_level, and hypertension."
   ]
  },
  {
   "cell_type": "code",
   "execution_count": 12,
   "id": "83b24e6c-7d68-4f4a-94ef-5f2c6c6e39e4",
   "metadata": {},
   "outputs": [
    {
     "name": "stderr",
     "output_type": "stream",
     "text": [
      "C:\\Users\\sarah\\AppData\\Local\\Temp\\ipykernel_20352\\4042565098.py:8: FutureWarning: \n",
      "\n",
      "Passing `palette` without assigning `hue` is deprecated and will be removed in v0.14.0. Assign the `y` variable to `hue` and set `legend=False` for the same effect.\n",
      "\n",
      "  sns.barplot(\n"
     ]
    },
    {
     "data": {
      "image/png": "[encoded data removed]",
      "text/plain": [
       "<Figure size 1000x600 with 1 Axes>"
      ]
     },
     "metadata": {},
     "output_type": "display_data"
    },
    {
     "data": {
      "image/png": "[encoded data removed]",
      "text/plain": [
       "<Figure size 1000x800 with 2 Axes>"
      ]
     },
     "metadata": {},
     "output_type": "display_data"
    }
   ],
   "source": [
    "import matplotlib.pyplot as plt\n",
    "import seaborn as sns\n",
    "\n",
    "# 1. Horizontal bar plot of Pearson Correlation Coefficients with 'stroke'\n",
    "# Reuse correlation_df from previous step, or recompute if needed\n",
    "# Plotting\n",
    "plt.figure(figsize=(10, 6))\n",
    "sns.barplot(\n",
    "    data=correlation_df,\n",
    "    x='Pearson Coefficient',\n",
    "    y='Feature',\n",
    "    palette='coolwarm',\n",
    "    orient='h'\n",
    ")\n",
    "plt.title('Pearson Correlation Coefficients with Stroke')\n",
    "plt.xlabel('Pearson Coefficient')\n",
    "plt.ylabel('Features')\n",
    "plt.axvline(x=0, color='gray', linestyle='--')  # Add reference line at 0\n",
    "plt.tight_layout()\n",
    "plt.show()\n",
    "\n",
    "# 2. Heatmap of Pearson Correlation Matrix (for all numeric features)\n",
    "plt.figure(figsize=(10, 8))\n",
    "numeric_df = df.select_dtypes(include=[np.number])  # Select numeric columns\n",
    "correlation_matrix = numeric_df.corr()\n",
    "\n",
    "sns.heatmap(\n",
    "    correlation_matrix,\n",
    "    annot=True,\n",
    "    cmap='coolwarm',\n",
    "    fmt=\".2f\",\n",
    "    linewidths=0.5\n",
    ")\n",
    "plt.title('Heatmap of Pearson Correlation Matrix')\n",
    "plt.tight_layout()\n",
    "plt.show()"
   ]
  },
  {
   "cell_type": "code",
   "execution_count": 13,
   "id": "a8094e97-35b0-4fd2-b688-109f2d151450",
   "metadata": {},
   "outputs": [
    {
     "data": {
      "image/png": "[encoded data removed]",
      "text/plain": [
       "<Figure size 800x500 with 1 Axes>"
      ]
     },
     "metadata": {},
     "output_type": "display_data"
    }
   ],
   "source": [
    "plt.figure(figsize=(8, 5))\n",
    "sns.boxplot(x='stroke', y='age', data=df)\n",
    "plt.title('Box Plot of Age by Stroke Status')\n",
    "plt.xlabel('Stroke (0 = No, 1 = Yes)')\n",
    "plt.ylabel('Age')\n",
    "plt.show()"
   ]
  },
  {
   "cell_type": "markdown",
   "id": "8371ea4e-776a-4a8d-b947-ddd134b701c9",
   "metadata": {},
   "source": [
    "#### This regression box plot shows us that most strokes or stroke cases occur in older patients/individuals, mainly above the age of 60. This also shows us that age is a significant variable in predicting stroke."
   ]
  },
  {
   "cell_type": "markdown",
   "id": "332239b6-97b1-4661-93c2-2c0ceb1f85e5",
   "metadata": {},
   "source": [
    "## **Modeling Analysis**"
   ]
  },
  {
   "cell_type": "markdown",
   "id": "4114f67f-8cb0-4220-a353-1b8f7b823db8",
   "metadata": {},
   "source": [
    "### Linear Regression"
   ]
  },
  {
   "cell_type": "code",
   "execution_count": 14,
   "id": "4fa93858-70b8-4c4c-9d93-0d8f882896f2",
   "metadata": {},
   "outputs": [
    {
     "name": "stdout",
     "output_type": "stream",
     "text": [
      "R² Score: 0.0602\n",
      "Mean Squared Error: 0.0436\n"
     ]
    }
   ],
   "source": [
    "from sklearn.linear_model import LinearRegression\n",
    "from sklearn.metrics import mean_squared_error, r2_score\n",
    "\n",
    "# Define source and target variables\n",
    "source_var = 'age'     # Replace with your chosen independent variable\n",
    "target_var = 'stroke'  # Replace with your chosen target variable\n",
    "\n",
    "# Drop NA values in relevant columns\n",
    "data = df[[source_var, target_var]].dropna()\n",
    "\n",
    "# Reshape input for sklearn\n",
    "X = data[[source_var]]  # 2D array for sklearn\n",
    "y = data[target_var]\n",
    "\n",
    "# Fit linear regression model\n",
    "model = LinearRegression()\n",
    "model.fit(X, y)\n",
    "\n",
    "# Predict target values\n",
    "y_pred = model.predict(X)\n",
    "\n",
    "# Calculate R² and MSE\n",
    "r2 = r2_score(y, y_pred)\n",
    "mse = mean_squared_error(y, y_pred)\n",
    "\n",
    "print(f\"R² Score: {r2:.4f}\")\n",
    "print(f\"Mean Squared Error: {mse:.4f}\")"
   ]
  },
  {
   "cell_type": "markdown",
   "id": "7e3ac805-b57c-4721-94cb-0427c863b446",
   "metadata": {},
   "source": [
    "#### Although the Pearson correlation coefficient tells us that age is positively correlated with stroke, the R2 score tells us that only 6.02% of the variation in stoke is explained by age. "
   ]
  },
  {
   "cell_type": "code",
   "execution_count": 15,
   "id": "ba2d13df-18f2-45f1-8029-8f8297eaf2b1",
   "metadata": {},
   "outputs": [
    {
     "name": "stdout",
     "output_type": "stream",
     "text": [
      "R² Score (Multivariable Linear Regression): 0.0688\n",
      "Mean Squared Error: 0.0432\n"
     ]
    }
   ],
   "source": [
    "from sklearn.linear_model import LinearRegression\n",
    "from sklearn.metrics import r2_score, mean_squared_error\n",
    "\n",
    "# Define the target variable and source variables\n",
    "target_var = 'stroke'  # Replace with your actual target column name\n",
    "source_vars = ['age', 'avg_glucose_level', 'bmi']  # Replace with your chosen features\n",
    "\n",
    "# Drop rows with missing values in selected columns\n",
    "data = df[source_vars + [target_var]].dropna()\n",
    "\n",
    "# Define X (independent variables) and y (dependent variable)\n",
    "X = data[source_vars]\n",
    "y = data[target_var]\n",
    "\n",
    "# Fit linear regression model\n",
    "model = LinearRegression()\n",
    "model.fit(X, y)\n",
    "\n",
    "# Predict using the model\n",
    "y_pred = model.predict(X)\n",
    "\n",
    "# Calculate R² and MSE\n",
    "r2 = r2_score(y, y_pred)\n",
    "mse = mean_squared_error(y, y_pred)\n",
    "\n",
    "print(f\"R² Score (Multivariable Linear Regression): {r2:.4f}\")\n",
    "print(f\"Mean Squared Error: {mse:.4f}\")"
   ]
  },
  {
   "cell_type": "markdown",
   "id": "330358b6-6da5-4dd1-8e41-20aba182ff13",
   "metadata": {},
   "source": [
    "#### After using age, ave_glucose_level, and bmi as predictors to estimate the likelihood of stroke, the R2 score tells us that only 6.88% of the variation in stroke occurence is explained by the model."
   ]
  },
  {
   "cell_type": "markdown",
   "id": "ef886488-c2f3-4054-849d-dee244058509",
   "metadata": {},
   "source": [
    "### Polynomial Regression"
   ]
  },
  {
   "cell_type": "code",
   "execution_count": 16,
   "id": "cfbdff21-9d60-4a8d-810d-3e012a14eae1",
   "metadata": {},
   "outputs": [
    {
     "name": "stdout",
     "output_type": "stream",
     "text": [
      "R² Score (Polynomial Regression with degree 2): 0.0899\n",
      "Mean Squared Error: 0.0422\n"
     ]
    }
   ],
   "source": [
    "from sklearn.pipeline import Pipeline\n",
    "from sklearn.preprocessing import StandardScaler, PolynomialFeatures\n",
    "from sklearn.linear_model import LinearRegression\n",
    "from sklearn.metrics import r2_score, mean_squared_error\n",
    "\n",
    "# Define target and source variables\n",
    "target_var = 'stroke'  # Replace with your actual target\n",
    "source_vars = ['age', 'avg_glucose_level', 'bmi']  # Replace with your actual features\n",
    "\n",
    "# Drop NA values\n",
    "data = df[source_vars + [target_var]].dropna()\n",
    "\n",
    "# Define X and y\n",
    "X = data[source_vars]\n",
    "y = data[target_var]\n",
    "\n",
    "# 1. Create pipeline with standard scaler, polynomial features, and linear regression\n",
    "pipeline = Pipeline([\n",
    "    ('scaler', StandardScaler()),\n",
    "    ('poly', PolynomialFeatures(degree=2)),\n",
    "    ('linear_model', LinearRegression())\n",
    "])\n",
    "\n",
    "# 2. Fit the pipeline\n",
    "pipeline.fit(X, y)\n",
    "\n",
    "# 3. Predict and evaluate\n",
    "y_pred = pipeline.predict(X)\n",
    "\n",
    "# Calculate R² and MSE\n",
    "r2 = r2_score(y, y_pred)\n",
    "mse = mean_squared_error(y, y_pred)\n",
    "\n",
    "print(f\"R² Score (Polynomial Regression with degree 2): {r2:.4f}\")\n",
    "print(f\"Mean Squared Error: {mse:.4f}\")"
   ]
  },
  {
   "cell_type": "markdown",
   "id": "159744c1-61d4-4967-84f7-6920e9dd7a69",
   "metadata": {},
   "source": [
    "#### The Polynomial Regression R2 score of 8.99% is slightly better than the Linear Regression R2 scores; however it is still considered low."
   ]
  },
  {
   "cell_type": "markdown",
   "id": "681d1b9b-f574-45e9-8b92-8838d997ec98",
   "metadata": {},
   "source": [
    "### Ridge Regression"
   ]
  },
  {
   "cell_type": "code",
   "execution_count": 17,
   "id": "d3d2f0bd-30a9-4c49-92c2-1e66fbbf63ae",
   "metadata": {},
   "outputs": [
    {
     "name": "stdout",
     "output_type": "stream",
     "text": [
      "Ridge Regression R² Score (Test Set): 0.0806\n",
      "Ridge Regression Mean Squared Error (Test Set): 0.0524\n"
     ]
    }
   ],
   "source": [
    "from sklearn.linear_model import Ridge\n",
    "from sklearn.model_selection import train_test_split\n",
    "from sklearn.metrics import mean_squared_error, r2_score\n",
    "\n",
    "# Define source and target attributes\n",
    "source_vars = ['age', 'avg_glucose_level', 'bmi']  # Replace with your actual feature names\n",
    "target_var = 'stroke'  # Replace with your actual target column\n",
    "\n",
    "# Drop rows with missing values\n",
    "data = df[source_vars + [target_var]].dropna()\n",
    "\n",
    "# Split the data into training and testing sets (80% train, 20% test)\n",
    "X = data[source_vars]\n",
    "y = data[target_var]\n",
    "\n",
    "X_train, X_test, y_train, y_test = train_test_split(X, y, test_size=0.2, random_state=42)\n",
    "\n",
    "# Create and fit a Ridge Regression model with alpha=0.1\n",
    "ridge_model = Ridge(alpha=0.1)\n",
    "ridge_model.fit(X_train, y_train)\n",
    "\n",
    "# Predict on the test set\n",
    "y_pred = ridge_model.predict(X_test)\n",
    "\n",
    "# Evaluate the model\n",
    "mse = mean_squared_error(y_test, y_pred)\n",
    "r2 = r2_score(y_test, y_pred)\n",
    "\n",
    "print(f\"Ridge Regression R² Score (Test Set): {r2:.4f}\")\n",
    "print(f\"Ridge Regression Mean Squared Error (Test Set): {mse:.4f}\")"
   ]
  },
  {
   "cell_type": "markdown",
   "id": "29413a67-3522-4da3-844b-3db3125ae2c8",
   "metadata": {},
   "source": [
    "#### The Ridge Regression model was applied to reduce potential overfitting. The model performed slightly better than the linear regression as the ridge regression's R2 score is 8.06% with an MSE of 0.0524; however, it still explains less than 9% of the variance in stroke outcome. There is a challenge in applying regression models to stroke prediction because of its binary classification. "
   ]
  },
  {
   "cell_type": "markdown",
   "id": "1e25c7b3-5d5b-4c18-9a34-fe47dc9a021d",
   "metadata": {},
   "source": [
    "## **Hyperparameter Tuning**"
   ]
  },
  {
   "cell_type": "code",
   "execution_count": 18,
   "id": "1940aafd-095b-4d14-b830-713b7f698d6f",
   "metadata": {},
   "outputs": [
    {
     "name": "stdout",
     "output_type": "stream",
     "text": [
      "Best Alpha: 100\n",
      "R² Score on Test Set: 0.1004\n",
      "Mean Squared Error on Test Set: 0.0513\n"
     ]
    }
   ],
   "source": [
    "from sklearn.model_selection import train_test_split, GridSearchCV\n",
    "from sklearn.preprocessing import PolynomialFeatures, StandardScaler\n",
    "from sklearn.linear_model import Ridge\n",
    "from sklearn.metrics import mean_squared_error, r2_score\n",
    "from sklearn.pipeline import Pipeline\n",
    "\n",
    "# Define your source and target attributes\n",
    "source_vars = ['age', 'avg_glucose_level', 'bmi']  # Replace with actual features\n",
    "target_var = 'stroke'  # Replace with your target\n",
    "\n",
    "# Drop rows with missing values in selected columns\n",
    "data = df[source_vars + [target_var]].dropna()\n",
    "X = data[source_vars]\n",
    "y = data[target_var]\n",
    "\n",
    "# 1. Split the data (80% train, 20% test)\n",
    "X_train, X_test, y_train, y_test = train_test_split(X, y, test_size=0.2, random_state=42)\n",
    "\n",
    "# 2. Create pipeline: scaling + polynomial features + Ridge\n",
    "pipeline = Pipeline([\n",
    "    ('scaler', StandardScaler()),\n",
    "    ('poly', PolynomialFeatures(degree=2)),\n",
    "    ('ridge', Ridge())\n",
    "])\n",
    "\n",
    "# 3. Grid Search for best alpha with cross-validation\n",
    "param_grid = {'ridge__alpha': [0.01, 0.1, 1, 10, 100]}\n",
    "\n",
    "grid_search = GridSearchCV(pipeline, param_grid, cv=5, scoring='r2')\n",
    "grid_search.fit(X_train, y_train)\n",
    "\n",
    "# Best model from grid search\n",
    "best_model = grid_search.best_estimator_\n",
    "\n",
    "# 4. Predict and evaluate on the test set\n",
    "y_pred = best_model.predict(X_test)\n",
    "mse = mean_squared_error(y_test, y_pred)\n",
    "r2 = r2_score(y_test, y_pred)\n",
    "\n",
    "# Output results\n",
    "print(f\"Best Alpha: {grid_search.best_params_['ridge__alpha']}\")\n",
    "print(f\"R² Score on Test Set: {r2:.4f}\")\n",
    "print(f\"Mean Squared Error on Test Set: {mse:.4f}\")"
   ]
  },
  {
   "cell_type": "markdown",
   "id": "e2ae4810-1b3f-415b-b370-00fc48eccaed",
   "metadata": {},
   "source": [
    "#### The Best Alpha: 100 means stronger regularization gave the best model during cross-validation. The R2 score on Test Set is 10.04% which means the best model explains its percentage of the variation in stroke on unseen data. It is also the highest R2 score compared to the linear, polynomial, and ridge regression scores. This was the best-performing regression model, however the performance is limited due to the binary nature of stroke variable. "
   ]
  },
  {
   "cell_type": "code",
   "execution_count": null,
   "id": "cc62aed5-5f3c-42fa-8054-f7db14ae06a7",
   "metadata": {},
   "outputs": [],
   "source": []
  }
 ],
 "metadata": {
  "kernelspec": {
   "display_name": "Python 3 (ipykernel)",
   "language": "python",
   "name": "python3"
  },
  "language_info": {
   "codemirror_mode": {
    "name": "ipython",
    "version": 3
   },
   "file_extension": ".py",
   "mimetype": "text/x-python",
   "name": "python",
   "nbconvert_exporter": "python",
   "pygments_lexer": "ipython3",
   "version": "3.13.2"
  }
 },
 "nbformat": 4,
 "nbformat_minor": 5
}
